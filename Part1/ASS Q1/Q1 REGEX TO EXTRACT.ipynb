{
 "cells": [
  {
   "cell_type": "markdown",
   "id": "5f275372",
   "metadata": {},
   "source": [
    "### INSTALLING NLTK"
   ]
  },
  {
   "cell_type": "code",
   "execution_count": 4,
   "id": "b14797af",
   "metadata": {},
   "outputs": [
    {
     "name": "stdout",
     "output_type": "stream",
     "text": [
      "Requirement already satisfied: nltk in c:\\users\\abhiram\\anaconda3\\lib\\site-packages (3.6.5)\n",
      "Requirement already satisfied: click in c:\\users\\abhiram\\anaconda3\\lib\\site-packages (from nltk) (8.0.3)\n",
      "Requirement already satisfied: joblib in c:\\users\\abhiram\\anaconda3\\lib\\site-packages (from nltk) (1.1.0)\n",
      "Requirement already satisfied: regex>=2021.8.3 in c:\\users\\abhiram\\anaconda3\\lib\\site-packages (from nltk) (2021.8.3)\n",
      "Requirement already satisfied: tqdm in c:\\users\\abhiram\\anaconda3\\lib\\site-packages (from nltk) (4.62.3)\n",
      "Requirement already satisfied: colorama in c:\\users\\abhiram\\anaconda3\\lib\\site-packages (from click->nltk) (0.4.4)\n"
     ]
    },
    {
     "name": "stderr",
     "output_type": "stream",
     "text": [
      "[nltk_data] Downloading package punkt to\n",
      "[nltk_data]     C:\\Users\\ABHIRAM\\AppData\\Roaming\\nltk_data...\n",
      "[nltk_data]   Unzipping tokenizers\\punkt.zip.\n"
     ]
    },
    {
     "data": {
      "text/plain": [
       "True"
      ]
     },
     "execution_count": 4,
     "metadata": {},
     "output_type": "execute_result"
    }
   ],
   "source": [
    "!pip install nltk\n",
    "nltk.download('punkt')"
   ]
  },
  {
   "cell_type": "markdown",
   "id": "957b6006",
   "metadata": {},
   "source": [
    "### Importing required libraries"
   ]
  },
  {
   "cell_type": "code",
   "execution_count": 2,
   "id": "bdaea8c0",
   "metadata": {},
   "outputs": [
    {
     "name": "stderr",
     "output_type": "stream",
     "text": [
      "[nltk_data] Downloading package stopwords to\n",
      "[nltk_data]     C:\\Users\\ABHIRAM\\AppData\\Roaming\\nltk_data...\n",
      "[nltk_data]   Package stopwords is already up-to-date!\n",
      "[nltk_data] Downloading package wordnet to\n",
      "[nltk_data]     C:\\Users\\ABHIRAM\\AppData\\Roaming\\nltk_data...\n",
      "[nltk_data]   Package wordnet is already up-to-date!\n"
     ]
    },
    {
     "data": {
      "text/plain": [
       "True"
      ]
     },
     "execution_count": 2,
     "metadata": {},
     "output_type": "execute_result"
    }
   ],
   "source": [
    "\n",
    "import nltk\n",
    "from nltk.tokenize import word_tokenize, sent_tokenize\n",
    "from nltk.corpus import RegexpTokenizer as regextoken\n",
    "\n",
    "nltk.download('stopwords')\n",
    "\n",
    "nltk.download('wordnet')"
   ]
  },
  {
   "cell_type": "markdown",
   "id": "d2506353",
   "metadata": {},
   "source": [
    "### Tokenzing"
   ]
  },
  {
   "cell_type": "code",
   "execution_count": 3,
   "id": "009141b0",
   "metadata": {},
   "outputs": [
    {
     "name": "stdout",
     "output_type": "stream",
     "text": [
      "['{', '``', 'orders', \"''\", ':', '[', '{', '``', 'id', \"''\", ':1', '}', ',', '{', '``', 'id', \"''\", ':2', '}', ',', '{', '``', 'id', \"''\", ':3', '}', ',', '{', '``', 'id', \"''\", ':4', '}', ',', '{', '``', 'id', \"''\", ':5', '}', ',', '{', '``', 'id', \"''\", ':6', '}', ',', '{', '``', 'id', \"''\", ':7', '}', ',', '{', '``', 'id', \"''\", ':8', '}', ',', '{', '``', 'id', \"''\", ':9', '}', ',', '{', '``', 'id', \"''\", ':10', '}', ',', '{', '``', 'id', \"''\", ':11', '}', ',', '{', '``', 'id', \"''\", ':648', '}', ',', '{', '``', 'id', \"''\", ':649', '}', ',', '{', '``', 'id', \"''\", ':650', '}', ',', '{', '``', 'id', \"''\", ':651', '}', ',', '{', '``', 'id', \"''\", ':652', '}', ',', '{', '``', 'id', \"''\", ':653', '}', ']', ',', \"''\", 'errors', \"''\", ':', '[', '{', '``', 'code', \"''\", ':3', ',', \"''\", 'message', \"''\", ':', \"''\", '[', 'PHP', 'Warning', '#', '2', ']', 'count', '(', ')', ':', 'Parameter', 'must', 'be', 'an', 'array', 'or', 'an', 'object', 'that', 'implements', 'Countable', '(', '153', ')', \"''\", '}', ']', '}']\n"
     ]
    }
   ],
   "source": [
    "str1='{\"orders\":[{\"id\":1},{\"id\":2},{\"id\":3},{\"id\":4},{\"id\":5},{\"id\":6},{\"id\":7},{\"id\":8},{\"id\":9},{\"id\":10},{\"id\":11},{\"id\":648},{\"id\":649},{\"id\":650},{\"id\":651},{\"id\":652},{\"id\":653}],\"errors\":[{\"code\":3,\"message\":\"[PHP Warning #2] count(): Parameter must be an array or an object that implements Countable (153)\"}]}'\n",
    "token= word_tokenize(str1)\n",
    "print(token)\n"
   ]
  },
  {
   "cell_type": "markdown",
   "id": "6bbaeddf",
   "metadata": {},
   "source": [
    "### Using Regex extrating Required output"
   ]
  },
  {
   "cell_type": "code",
   "execution_count": 4,
   "id": "36c4a3df",
   "metadata": {},
   "outputs": [
    {
     "data": {
      "text/plain": [
       "[':1',\n",
       " ':2',\n",
       " ':3',\n",
       " ':4',\n",
       " ':5',\n",
       " ':6',\n",
       " ':7',\n",
       " ':8',\n",
       " ':9',\n",
       " ':10',\n",
       " ':11',\n",
       " ':648',\n",
       " ':649',\n",
       " ':650',\n",
       " ':651',\n",
       " ':652',\n",
       " ':653',\n",
       " ':3']"
      ]
     },
     "execution_count": 4,
     "metadata": {},
     "output_type": "execute_result"
    }
   ],
   "source": [
    "import re\n",
    "[w for w in token if re.search('^:[0-9]\\d*', w)]"
   ]
  }
 ],
 "metadata": {
  "kernelspec": {
   "display_name": "Python 3 (ipykernel)",
   "language": "python",
   "name": "python3"
  },
  "language_info": {
   "codemirror_mode": {
    "name": "ipython",
    "version": 3
   },
   "file_extension": ".py",
   "mimetype": "text/x-python",
   "name": "python",
   "nbconvert_exporter": "python",
   "pygments_lexer": "ipython3",
   "version": "3.9.7"
  }
 },
 "nbformat": 4,
 "nbformat_minor": 5
}
