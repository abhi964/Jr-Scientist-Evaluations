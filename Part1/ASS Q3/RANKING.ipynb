{
 "cells": [
  {
   "cell_type": "markdown",
   "id": "e4f4c293",
   "metadata": {},
   "source": [
    "## Ranking Data - Understanding the co-relation between keyword rankings with description or any other attribute.\n",
    "\n",
    "# *Suggested Questions*:-\n",
    "\n",
    "1. Is there any co-relation between short description, long description and ranking? Does the placement of keyword (for example    using a keyword in the first 10 words - have any co-relation with the ranking)?\n",
    "2. Does APP ID (Also known as package name) play any role in ranking?\n",
    "3. Any other pattern or good questions that you can think of and answer?\n"
   ]
  },
  {
   "cell_type": "markdown",
   "id": "2fd54e74",
   "metadata": {},
   "source": [
    "# *Libraries*"
   ]
  },
  {
   "cell_type": "code",
   "execution_count": 16,
   "id": "cda78773",
   "metadata": {},
   "outputs": [],
   "source": [
    "import pandas as pd\n",
    "import numpy as np\n",
    "import matplotlib.pyplot as plt\n",
    "import seaborn as sns"
   ]
  },
  {
   "cell_type": "markdown",
   "id": "9bbe553c",
   "metadata": {},
   "source": [
    "# *Importing data*"
   ]
  },
  {
   "cell_type": "code",
   "execution_count": 3,
   "id": "06616610",
   "metadata": {},
   "outputs": [],
   "source": [
    "rank=pd.read_csv(\"browser_rankings_data.csv\")"
   ]
  },
  {
   "cell_type": "code",
   "execution_count": 4,
   "id": "f926bde9",
   "metadata": {
    "scrolled": true
   },
   "outputs": [
    {
     "data": {
      "text/html": [
       "<div>\n",
       "<style scoped>\n",
       "    .dataframe tbody tr th:only-of-type {\n",
       "        vertical-align: middle;\n",
       "    }\n",
       "\n",
       "    .dataframe tbody tr th {\n",
       "        vertical-align: top;\n",
       "    }\n",
       "\n",
       "    .dataframe thead th {\n",
       "        text-align: right;\n",
       "    }\n",
       "</style>\n",
       "<table border=\"1\" class=\"dataframe\">\n",
       "  <thead>\n",
       "    <tr style=\"text-align: right;\">\n",
       "      <th></th>\n",
       "      <th>ID</th>\n",
       "      <th>Keyword</th>\n",
       "      <th>Rank</th>\n",
       "      <th>Country</th>\n",
       "      <th>Language</th>\n",
       "      <th>Date</th>\n",
       "      <th>App ID</th>\n",
       "      <th>Date of Last Description Change</th>\n",
       "      <th>Short Description</th>\n",
       "      <th>Long Description</th>\n",
       "    </tr>\n",
       "  </thead>\n",
       "  <tbody>\n",
       "    <tr>\n",
       "      <th>0</th>\n",
       "      <td>1</td>\n",
       "      <td>browser</td>\n",
       "      <td>2.0</td>\n",
       "      <td>in</td>\n",
       "      <td>en</td>\n",
       "      <td>16-12-2020</td>\n",
       "      <td>net.fast.web.browser</td>\n",
       "      <td>18-12-2020</td>\n",
       "      <td>The small, fastest, secure Web Browser, best m...</td>\n",
       "      <td>One of the smallest, fastest, secure Web Brows...</td>\n",
       "    </tr>\n",
       "    <tr>\n",
       "      <th>1</th>\n",
       "      <td>2</td>\n",
       "      <td>browser</td>\n",
       "      <td>3.0</td>\n",
       "      <td>in</td>\n",
       "      <td>en</td>\n",
       "      <td>16-12-2020</td>\n",
       "      <td>com.android.chrome</td>\n",
       "      <td>18-12-2020</td>\n",
       "      <td>Fast, simple, and secure. Google Chrome browse...</td>\n",
       "      <td>Google Chrome is a fast, easy to use, and secu...</td>\n",
       "    </tr>\n",
       "    <tr>\n",
       "      <th>2</th>\n",
       "      <td>3</td>\n",
       "      <td>browser</td>\n",
       "      <td>4.0</td>\n",
       "      <td>in</td>\n",
       "      <td>en</td>\n",
       "      <td>16-12-2020</td>\n",
       "      <td>com.opera.browser</td>\n",
       "      <td>27-02-2021</td>\n",
       "      <td>Fast, safe web browser: free VPN, Ad blocker, ...</td>\n",
       "      <td>Fast, safe and private, introducing the latest...</td>\n",
       "    </tr>\n",
       "    <tr>\n",
       "      <th>3</th>\n",
       "      <td>3</td>\n",
       "      <td>browser</td>\n",
       "      <td>4.0</td>\n",
       "      <td>in</td>\n",
       "      <td>en</td>\n",
       "      <td>16-12-2020</td>\n",
       "      <td>com.opera.browser</td>\n",
       "      <td>18-12-2020</td>\n",
       "      <td>Fast, safe web browser: free VPN, Ad blocker, ...</td>\n",
       "      <td>Opera is a fast, safe web browser for your And...</td>\n",
       "    </tr>\n",
       "    <tr>\n",
       "      <th>4</th>\n",
       "      <td>4</td>\n",
       "      <td>browser</td>\n",
       "      <td>1.0</td>\n",
       "      <td>in</td>\n",
       "      <td>en</td>\n",
       "      <td>16-12-2020</td>\n",
       "      <td>com.cloudmosa.puffinTV</td>\n",
       "      <td>07-02-2021</td>\n",
       "      <td>Puffin TV Browser - One App to Watch All Video...</td>\n",
       "      <td>Puffin TV Browser is a special edition of Puff...</td>\n",
       "    </tr>\n",
       "  </tbody>\n",
       "</table>\n",
       "</div>"
      ],
      "text/plain": [
       "   ID  Keyword  Rank Country Language        Date                  App ID  \\\n",
       "0   1  browser   2.0      in       en  16-12-2020    net.fast.web.browser   \n",
       "1   2  browser   3.0      in       en  16-12-2020      com.android.chrome   \n",
       "2   3  browser   4.0      in       en  16-12-2020       com.opera.browser   \n",
       "3   3  browser   4.0      in       en  16-12-2020       com.opera.browser   \n",
       "4   4  browser   1.0      in       en  16-12-2020  com.cloudmosa.puffinTV   \n",
       "\n",
       "  Date of Last Description Change  \\\n",
       "0                      18-12-2020   \n",
       "1                      18-12-2020   \n",
       "2                      27-02-2021   \n",
       "3                      18-12-2020   \n",
       "4                      07-02-2021   \n",
       "\n",
       "                                   Short Description  \\\n",
       "0  The small, fastest, secure Web Browser, best m...   \n",
       "1  Fast, simple, and secure. Google Chrome browse...   \n",
       "2  Fast, safe web browser: free VPN, Ad blocker, ...   \n",
       "3  Fast, safe web browser: free VPN, Ad blocker, ...   \n",
       "4  Puffin TV Browser - One App to Watch All Video...   \n",
       "\n",
       "                                    Long Description  \n",
       "0  One of the smallest, fastest, secure Web Brows...  \n",
       "1  Google Chrome is a fast, easy to use, and secu...  \n",
       "2  Fast, safe and private, introducing the latest...  \n",
       "3  Opera is a fast, safe web browser for your And...  \n",
       "4  Puffin TV Browser is a special edition of Puff...  "
      ]
     },
     "execution_count": 4,
     "metadata": {},
     "output_type": "execute_result"
    }
   ],
   "source": [
    "rank.head()"
   ]
  },
  {
   "cell_type": "code",
   "execution_count": 5,
   "id": "db452864",
   "metadata": {},
   "outputs": [
    {
     "name": "stdout",
     "output_type": "stream",
     "text": [
      "<class 'pandas.core.frame.DataFrame'>\n",
      "RangeIndex: 3066 entries, 0 to 3065\n",
      "Data columns (total 10 columns):\n",
      " #   Column                           Non-Null Count  Dtype  \n",
      "---  ------                           --------------  -----  \n",
      " 0   ID                               3066 non-null   int64  \n",
      " 1   Keyword                          3066 non-null   object \n",
      " 2   Rank                             3050 non-null   float64\n",
      " 3   Country                          3066 non-null   object \n",
      " 4   Language                         3066 non-null   object \n",
      " 5   Date                             3066 non-null   object \n",
      " 6   App ID                           3066 non-null   object \n",
      " 7   Date of Last Description Change  3066 non-null   object \n",
      " 8   Short Description                3066 non-null   object \n",
      " 9   Long Description                 3066 non-null   object \n",
      "dtypes: float64(1), int64(1), object(8)\n",
      "memory usage: 239.7+ KB\n"
     ]
    }
   ],
   "source": [
    "rank.info()"
   ]
  },
  {
   "cell_type": "code",
   "execution_count": 6,
   "id": "4d196cc4",
   "metadata": {},
   "outputs": [
    {
     "data": {
      "text/plain": [
       "(3066, 10)"
      ]
     },
     "execution_count": 6,
     "metadata": {},
     "output_type": "execute_result"
    }
   ],
   "source": [
    "rank.shape"
   ]
  },
  {
   "cell_type": "code",
   "execution_count": 7,
   "id": "b6c61520",
   "metadata": {},
   "outputs": [
    {
     "data": {
      "application/vnd.jupyter.widget-view+json": {
       "model_id": "f74d58331ab445c2b91cab477f8d7091",
       "version_major": 2,
       "version_minor": 0
      },
      "text/plain": [
       "interactive(children=(Dropdown(description='feature', options=('ID', 'Keyword', 'Rank', 'Country', 'Language',…"
      ]
     },
     "metadata": {},
     "output_type": "display_data"
    }
   ],
   "source": [
    "# Checking unique values\n",
    "\n",
    "from ipywidgets import interact, interactive, fixed, interact_manual\n",
    "import ipywidgets as widgets\n",
    "\n",
    "\n",
    "@interact(feature=rank.columns.to_list())\n",
    "def describe_features(feature):\n",
    "    print (\"Number of unique values in {} column are {} \\n The unique values are {}\".format(feature, len(rank[feature].unique()),rank[feature].unique()))"
   ]
  },
  {
   "cell_type": "markdown",
   "id": "bff42648",
   "metadata": {},
   "source": [
    "# *Data Preparation*"
   ]
  },
  {
   "cell_type": "code",
   "execution_count": 8,
   "id": "421e310c",
   "metadata": {},
   "outputs": [
    {
     "data": {
      "text/plain": [
       "ID                                  0\n",
       "Keyword                             0\n",
       "Rank                               16\n",
       "Country                             0\n",
       "Language                            0\n",
       "Date                                0\n",
       "App ID                              0\n",
       "Date of Last Description Change     0\n",
       "Short Description                   0\n",
       "Long Description                    0\n",
       "dtype: int64"
      ]
     },
     "execution_count": 8,
     "metadata": {},
     "output_type": "execute_result"
    }
   ],
   "source": [
    "#Checking Null values\n",
    "\n",
    "rank.isnull().sum()"
   ]
  },
  {
   "cell_type": "code",
   "execution_count": 9,
   "id": "8806ebcd",
   "metadata": {},
   "outputs": [],
   "source": [
    "#Importing KNNImputer from SKlearn to impute missing values\n",
    "\n",
    "\n",
    "from sklearn.impute import KNNImputer\n",
    "imputer = KNNImputer(n_neighbors=3, weights='uniform', missing_values=np.nan)\n",
    "rank['Rank'] = imputer.fit_transform(rank[['Rank']])"
   ]
  },
  {
   "cell_type": "code",
   "execution_count": 10,
   "id": "595d1b83",
   "metadata": {},
   "outputs": [
    {
     "data": {
      "text/plain": [
       "ID                                 0\n",
       "Keyword                            0\n",
       "Rank                               0\n",
       "Country                            0\n",
       "Language                           0\n",
       "Date                               0\n",
       "App ID                             0\n",
       "Date of Last Description Change    0\n",
       "Short Description                  0\n",
       "Long Description                   0\n",
       "dtype: int64"
      ]
     },
     "execution_count": 10,
     "metadata": {},
     "output_type": "execute_result"
    }
   ],
   "source": [
    "rank.isnull().sum()"
   ]
  },
  {
   "cell_type": "code",
   "execution_count": 11,
   "id": "232163c0",
   "metadata": {},
   "outputs": [],
   "source": [
    "#Changing dates from object to date time stamp\n",
    "\n",
    "rank['Date'] = pd.to_datetime(rank['Date'])\n",
    "rank['Date of Last Description Change'] = pd.to_datetime(rank['Date of Last Description Change'])"
   ]
  },
  {
   "cell_type": "code",
   "execution_count": 12,
   "id": "b366a5d5",
   "metadata": {},
   "outputs": [
    {
     "name": "stdout",
     "output_type": "stream",
     "text": [
      "<class 'pandas.core.frame.DataFrame'>\n",
      "RangeIndex: 3066 entries, 0 to 3065\n",
      "Data columns (total 10 columns):\n",
      " #   Column                           Non-Null Count  Dtype         \n",
      "---  ------                           --------------  -----         \n",
      " 0   ID                               3066 non-null   int64         \n",
      " 1   Keyword                          3066 non-null   object        \n",
      " 2   Rank                             3066 non-null   float64       \n",
      " 3   Country                          3066 non-null   object        \n",
      " 4   Language                         3066 non-null   object        \n",
      " 5   Date                             3066 non-null   datetime64[ns]\n",
      " 6   App ID                           3066 non-null   object        \n",
      " 7   Date of Last Description Change  3066 non-null   datetime64[ns]\n",
      " 8   Short Description                3066 non-null   object        \n",
      " 9   Long Description                 3066 non-null   object        \n",
      "dtypes: datetime64[ns](2), float64(1), int64(1), object(6)\n",
      "memory usage: 239.7+ KB\n"
     ]
    }
   ],
   "source": [
    "rank.info()"
   ]
  },
  {
   "cell_type": "code",
   "execution_count": 13,
   "id": "68329217",
   "metadata": {},
   "outputs": [],
   "source": [
    "#Label Encoding to transfrom data for use\n",
    "\n",
    "\n",
    "\n",
    "from sklearn import preprocessing\n",
    "  \n",
    "label_encoder = preprocessing.LabelEncoder()\n",
    "list1=['Keyword','App ID','Short Description','Long Description']\n",
    "for i in list1:\n",
    "    rank[i]= label_encoder.fit_transform(rank[i])\n",
    "    rank[i].unique()\n",
    "rank['Country']=rank['Country'].replace('in',0)\n",
    "rank['Language']=rank['Language'].replace('en',0)"
   ]
  },
  {
   "cell_type": "code",
   "execution_count": 14,
   "id": "27801778",
   "metadata": {},
   "outputs": [
    {
     "data": {
      "text/html": [
       "<div>\n",
       "<style scoped>\n",
       "    .dataframe tbody tr th:only-of-type {\n",
       "        vertical-align: middle;\n",
       "    }\n",
       "\n",
       "    .dataframe tbody tr th {\n",
       "        vertical-align: top;\n",
       "    }\n",
       "\n",
       "    .dataframe thead th {\n",
       "        text-align: right;\n",
       "    }\n",
       "</style>\n",
       "<table border=\"1\" class=\"dataframe\">\n",
       "  <thead>\n",
       "    <tr style=\"text-align: right;\">\n",
       "      <th></th>\n",
       "      <th>ID</th>\n",
       "      <th>Keyword</th>\n",
       "      <th>Rank</th>\n",
       "      <th>Country</th>\n",
       "      <th>Language</th>\n",
       "      <th>Date</th>\n",
       "      <th>App ID</th>\n",
       "      <th>Date of Last Description Change</th>\n",
       "      <th>Short Description</th>\n",
       "      <th>Long Description</th>\n",
       "    </tr>\n",
       "  </thead>\n",
       "  <tbody>\n",
       "    <tr>\n",
       "      <th>0</th>\n",
       "      <td>1</td>\n",
       "      <td>3</td>\n",
       "      <td>2.0</td>\n",
       "      <td>0</td>\n",
       "      <td>0</td>\n",
       "      <td>2020-12-16</td>\n",
       "      <td>7</td>\n",
       "      <td>2020-12-18</td>\n",
       "      <td>8</td>\n",
       "      <td>2</td>\n",
       "    </tr>\n",
       "    <tr>\n",
       "      <th>1</th>\n",
       "      <td>2</td>\n",
       "      <td>3</td>\n",
       "      <td>3.0</td>\n",
       "      <td>0</td>\n",
       "      <td>0</td>\n",
       "      <td>2020-12-16</td>\n",
       "      <td>0</td>\n",
       "      <td>2020-12-18</td>\n",
       "      <td>3</td>\n",
       "      <td>1</td>\n",
       "    </tr>\n",
       "    <tr>\n",
       "      <th>2</th>\n",
       "      <td>3</td>\n",
       "      <td>3</td>\n",
       "      <td>4.0</td>\n",
       "      <td>0</td>\n",
       "      <td>0</td>\n",
       "      <td>2020-12-16</td>\n",
       "      <td>4</td>\n",
       "      <td>2021-02-27</td>\n",
       "      <td>2</td>\n",
       "      <td>0</td>\n",
       "    </tr>\n",
       "    <tr>\n",
       "      <th>3</th>\n",
       "      <td>3</td>\n",
       "      <td>3</td>\n",
       "      <td>4.0</td>\n",
       "      <td>0</td>\n",
       "      <td>0</td>\n",
       "      <td>2020-12-16</td>\n",
       "      <td>4</td>\n",
       "      <td>2020-12-18</td>\n",
       "      <td>2</td>\n",
       "      <td>3</td>\n",
       "    </tr>\n",
       "    <tr>\n",
       "      <th>4</th>\n",
       "      <td>4</td>\n",
       "      <td>3</td>\n",
       "      <td>1.0</td>\n",
       "      <td>0</td>\n",
       "      <td>0</td>\n",
       "      <td>2020-12-16</td>\n",
       "      <td>2</td>\n",
       "      <td>2021-07-02</td>\n",
       "      <td>6</td>\n",
       "      <td>9</td>\n",
       "    </tr>\n",
       "  </tbody>\n",
       "</table>\n",
       "</div>"
      ],
      "text/plain": [
       "   ID  Keyword  Rank  Country  Language       Date  App ID  \\\n",
       "0   1        3   2.0        0         0 2020-12-16       7   \n",
       "1   2        3   3.0        0         0 2020-12-16       0   \n",
       "2   3        3   4.0        0         0 2020-12-16       4   \n",
       "3   3        3   4.0        0         0 2020-12-16       4   \n",
       "4   4        3   1.0        0         0 2020-12-16       2   \n",
       "\n",
       "  Date of Last Description Change  Short Description  Long Description  \n",
       "0                      2020-12-18                  8                 2  \n",
       "1                      2020-12-18                  3                 1  \n",
       "2                      2021-02-27                  2                 0  \n",
       "3                      2020-12-18                  2                 3  \n",
       "4                      2021-07-02                  6                 9  "
      ]
     },
     "execution_count": 14,
     "metadata": {},
     "output_type": "execute_result"
    }
   ],
   "source": [
    "rank.head()"
   ]
  },
  {
   "cell_type": "code",
   "execution_count": 15,
   "id": "cd6ca404",
   "metadata": {},
   "outputs": [
    {
     "data": {
      "text/html": [
       "<div>\n",
       "<style scoped>\n",
       "    .dataframe tbody tr th:only-of-type {\n",
       "        vertical-align: middle;\n",
       "    }\n",
       "\n",
       "    .dataframe tbody tr th {\n",
       "        vertical-align: top;\n",
       "    }\n",
       "\n",
       "    .dataframe thead th {\n",
       "        text-align: right;\n",
       "    }\n",
       "</style>\n",
       "<table border=\"1\" class=\"dataframe\">\n",
       "  <thead>\n",
       "    <tr style=\"text-align: right;\">\n",
       "      <th></th>\n",
       "      <th>ID</th>\n",
       "      <th>Keyword</th>\n",
       "      <th>Rank</th>\n",
       "      <th>Date</th>\n",
       "      <th>App ID</th>\n",
       "      <th>Date of Last Description Change</th>\n",
       "      <th>Short Description</th>\n",
       "      <th>Long Description</th>\n",
       "    </tr>\n",
       "  </thead>\n",
       "  <tbody>\n",
       "    <tr>\n",
       "      <th>0</th>\n",
       "      <td>1</td>\n",
       "      <td>3</td>\n",
       "      <td>2.0</td>\n",
       "      <td>2020-12-16</td>\n",
       "      <td>7</td>\n",
       "      <td>2020-12-18</td>\n",
       "      <td>8</td>\n",
       "      <td>2</td>\n",
       "    </tr>\n",
       "    <tr>\n",
       "      <th>1</th>\n",
       "      <td>2</td>\n",
       "      <td>3</td>\n",
       "      <td>3.0</td>\n",
       "      <td>2020-12-16</td>\n",
       "      <td>0</td>\n",
       "      <td>2020-12-18</td>\n",
       "      <td>3</td>\n",
       "      <td>1</td>\n",
       "    </tr>\n",
       "    <tr>\n",
       "      <th>2</th>\n",
       "      <td>3</td>\n",
       "      <td>3</td>\n",
       "      <td>4.0</td>\n",
       "      <td>2020-12-16</td>\n",
       "      <td>4</td>\n",
       "      <td>2021-02-27</td>\n",
       "      <td>2</td>\n",
       "      <td>0</td>\n",
       "    </tr>\n",
       "    <tr>\n",
       "      <th>3</th>\n",
       "      <td>3</td>\n",
       "      <td>3</td>\n",
       "      <td>4.0</td>\n",
       "      <td>2020-12-16</td>\n",
       "      <td>4</td>\n",
       "      <td>2020-12-18</td>\n",
       "      <td>2</td>\n",
       "      <td>3</td>\n",
       "    </tr>\n",
       "    <tr>\n",
       "      <th>4</th>\n",
       "      <td>4</td>\n",
       "      <td>3</td>\n",
       "      <td>1.0</td>\n",
       "      <td>2020-12-16</td>\n",
       "      <td>2</td>\n",
       "      <td>2021-07-02</td>\n",
       "      <td>6</td>\n",
       "      <td>9</td>\n",
       "    </tr>\n",
       "  </tbody>\n",
       "</table>\n",
       "</div>"
      ],
      "text/plain": [
       "   ID  Keyword  Rank       Date  App ID Date of Last Description Change  \\\n",
       "0   1        3   2.0 2020-12-16       7                      2020-12-18   \n",
       "1   2        3   3.0 2020-12-16       0                      2020-12-18   \n",
       "2   3        3   4.0 2020-12-16       4                      2021-02-27   \n",
       "3   3        3   4.0 2020-12-16       4                      2020-12-18   \n",
       "4   4        3   1.0 2020-12-16       2                      2021-07-02   \n",
       "\n",
       "   Short Description  Long Description  \n",
       "0                  8                 2  \n",
       "1                  3                 1  \n",
       "2                  2                 0  \n",
       "3                  2                 3  \n",
       "4                  6                 9  "
      ]
     },
     "execution_count": 15,
     "metadata": {},
     "output_type": "execute_result"
    }
   ],
   "source": [
    "#Dropping Country and Launguage columns because as there are not significant.\n",
    "\n",
    "rank = rank.drop(columns=['Country', 'Language'], axis=1)\n",
    "rank.head()"
   ]
  },
  {
   "cell_type": "markdown",
   "id": "37121be2",
   "metadata": {},
   "source": [
    "# Now data is prepared for further use"
   ]
  },
  {
   "cell_type": "markdown",
   "id": "1125beba",
   "metadata": {},
   "source": [
    "## *Corelation Heat Map*\n",
    "\n",
    "1. Using Corelation heatmap We can know the corelation between the features.\n",
    "2. If corelation is either +1 or -1 they have good corelation and if it's close to 0 they have no corelation.\n"
   ]
  },
  {
   "cell_type": "markdown",
   "id": "384ee489",
   "metadata": {},
   "source": [
    "## Checking Corelation"
   ]
  },
  {
   "cell_type": "code",
   "execution_count": 18,
   "id": "1d4d7c2a",
   "metadata": {},
   "outputs": [
    {
     "data": {
      "image/png": "[encoded data removed]",
      "text/plain": [
       "<Figure size 1152x720 with 2 Axes>"
      ]
     },
     "metadata": {
      "needs_background": "light"
     },
     "output_type": "display_data"
    }
   ],
   "source": [
    "plt.figure(figsize = (16, 10))\n",
    "sns.heatmap(rank.corr(), annot = True, cmap=\"YlGnBu\")\n",
    "plt.show()"
   ]
  },
  {
   "cell_type": "markdown",
   "id": "7564e930",
   "metadata": {},
   "source": [
    "## *Observations*\n",
    "\n",
    "1. ID do not have a significant monotonically correlation with any of the feature.\n",
    "2. Keyword is most negatively correlated with Short Description, with APP ID & Long Description somewhat positively correlated.\n",
    "3. Rank is most positively correlated with App ID among all the features, somewhat positively correlated with Short Description & no significant monotonically correlated with any of the other feature.\n",
    "4. Short Description & Long Descriptions are the most negatively correlated with each other & among all too, Also Short Description is somewhat negatively correlated with Keyword.\n",
    "5. Long Description do not have a significant monotonically correlation with ID & somewhat positively correlated with Keyword, Rank, App ID as compared to ID.\n"
   ]
  },
  {
   "cell_type": "markdown",
   "id": "bcc39da8",
   "metadata": {},
   "source": [
    "## *Suggested Questions*:"
   ]
  },
  {
   "cell_type": "markdown",
   "id": "a6bfc7c4",
   "metadata": {},
   "source": [
    "### 1. Is there any co-relation between short description, long description and ranking? Does the placement of keyword (for example using a keyword in the first 10 words - have any co-relation with the ranking)?\n",
    "\n",
    "1. Short Description and ranking are negatively corelated but not of much significance.\n",
    "2. Similarly, Even long description is positively corelated with rank but not of much significannce\n",
    "3. Even descriptions have no good corelation between keyword and also keyword, rank are also weakly corelated, So inclusion of keyword in description maynot have effect in ranking.\n"
   ]
  },
  {
   "cell_type": "markdown",
   "id": "bd402be0",
   "metadata": {},
   "source": [
    "### 2. Does App ID (Also known as package name) play any role in ranking?\n",
    "\n",
    "1. Rank is mostly corelated is AppID among the features present, So, we can say that APPID has significance role in ranking than any other feature. "
   ]
  },
  {
   "cell_type": "markdown",
   "id": "0a4aff7f",
   "metadata": {},
   "source": [
    "\n",
    "### 3. Any other pattern or good questions that you can think of and answer?\n",
    "\n",
    "1. Features does not exhibit multicollinearty expect descriptions, Short and Long descriptions have much corelation we can say that they are somewhat similar."
   ]
  },
  {
   "cell_type": "code",
   "execution_count": null,
   "id": "b43a78b8",
   "metadata": {},
   "outputs": [],
   "source": []
  }
 ],
 "metadata": {
  "kernelspec": {
   "display_name": "Python 3 (ipykernel)",
   "language": "python",
   "name": "python3"
  },
  "language_info": {
   "codemirror_mode": {
    "name": "ipython",
    "version": 3
   },
   "file_extension": ".py",
   "mimetype": "text/x-python",
   "name": "python",
   "nbconvert_exporter": "python",
   "pygments_lexer": "ipython3",
   "version": "3.9.7"
  }
 },
 "nbformat": 4,
 "nbformat_minor": 5
}
