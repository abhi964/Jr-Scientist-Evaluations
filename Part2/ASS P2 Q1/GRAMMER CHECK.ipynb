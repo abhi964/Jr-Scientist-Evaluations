{
 "cells": [
  {
   "cell_type": "code",
   "execution_count": null,
   "id": "5e0a0d25",
   "metadata": {},
   "outputs": [],
   "source": []
  },
  {
   "cell_type": "code",
   "execution_count": null,
   "id": "1b54c8bf",
   "metadata": {},
   "outputs": [],
   "source": [
    "import pandas as pd\n",
    "import numpy as np\n",
    "import matplotlib.pyplot as plt"
   ]
  },
  {
   "cell_type": "code",
   "execution_count": null,
   "id": "20708980",
   "metadata": {},
   "outputs": [],
   "source": [
    "df = pd.read_csv('review_data.csv',nrows=100)"
   ]
  },
  {
   "cell_type": "code",
   "execution_count": null,
   "id": "0a1a027a",
   "metadata": {},
   "outputs": [],
   "source": [
    "import Caribe as cb\n",
    "\n",
    "\n",
    "sentence = \"I am lived with my parenmts \"\n",
    "correction = cb.t5_kes_corrector(sentence)\n",
    "\n",
    "\n",
    "print(correction) "
   ]
  },
  {
   "cell_type": "code",
   "execution_count": null,
   "id": "b01e6b8b",
   "metadata": {},
   "outputs": [],
   "source": [
    "if sentence == correction:\n",
    "    print('True')\n",
    "else:\n",
    "    print('False')"
   ]
  },
  {
   "cell_type": "code",
   "execution_count": null,
   "id": "b37fe773",
   "metadata": {},
   "outputs": [],
   "source": [
    "df"
   ]
  },
  {
   "cell_type": "code",
   "execution_count": null,
   "id": "80f18d19",
   "metadata": {},
   "outputs": [],
   "source": [
    "ll = df['text'].tolist()"
   ]
  },
  {
   "cell_type": "code",
   "execution_count": null,
   "id": "32252289",
   "metadata": {},
   "outputs": [],
   "source": [
    "ll"
   ]
  },
  {
   "cell_type": "code",
   "execution_count": null,
   "id": "f9339dcb",
   "metadata": {},
   "outputs": [],
   "source": [
    "aa = []\n",
    "for i in ll:\n",
    "    cc = cb.t5_kes_corrector(i)\n",
    "    if i == cc:\n",
    "        aa.append('True')\n",
    "    else:\n",
    "        aa.append('False')"
   ]
  },
  {
   "cell_type": "code",
   "execution_count": null,
   "id": "1e9497ea",
   "metadata": {},
   "outputs": [],
   "source": [
    "df['grammar'] = aa"
   ]
  },
  {
   "cell_type": "code",
   "execution_count": null,
   "id": "09c08ee6",
   "metadata": {},
   "outputs": [],
   "source": []
  }
 ],
 "metadata": {
  "kernelspec": {
   "display_name": "Python 3 (ipykernel)",
   "language": "python",
   "name": "python3"
  },
  "language_info": {
   "codemirror_mode": {
    "name": "ipython",
    "version": 3
   },
   "file_extension": ".py",
   "mimetype": "text/x-python",
   "name": "python",
   "nbconvert_exporter": "python",
   "pygments_lexer": "ipython3",
   "version": "3.9.7"
  }
 },
 "nbformat": 4,
 "nbformat_minor": 5
}
